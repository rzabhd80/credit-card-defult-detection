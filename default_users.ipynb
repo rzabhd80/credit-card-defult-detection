{
 "cells": [
  {
   "cell_type": "markdown",
   "id": "a4364682-6265-49e2-a1b0-f68d340c106f",
   "metadata": {},
   "source": [
    "<div dir=\"rtl\" align=\"center\">\n",
    "<font face=\"XB Zar\" size=5>  \n",
    "    <br>\n",
    "    <font color=gray size=10>\n",
    "        user default prediction \n",
    "    </font>\n",
    "    <br>\n",
    "    <hr/>\n",
    "       Author: Reza Bahadori\n",
    "    <br>\n",
    "     <font>\n",
    "         course: Data Mining\n",
    "     </font>\n",
    "    <br>\n",
    "    <font>\n",
    "        lecteruer: Dr.Samira Loveymi\n",
    "    </font>\n",
    "    <hr>\n",
    "<br>\n",
    "</font>\n",
    "</div>"
   ]
  },
  {
   "cell_type": "markdown",
   "id": "12036c73-9b22-4e12-8b14-cdde5b6de929",
   "metadata": {},
   "source": [
    "<div allign=right> <div dir=rtl>\n",
    "    <font face= \"XB Zar\" size=5 color=red>بررسی اولیه بر روی فیچر های دیتاست</font>\n",
    "    <hr>\n",
    "    <font size=5>ابتدا لازم است  مروری بر روی فیچر های این دیتاست داشته باشیم و مفهوم  هرکدام را بررسی کنیم تا به برداشت درستی از آن برسیم</font>\n",
    "    <br>\n",
    "    <br>\n",
    "    <font face=\"XB Zar\" size=4>\n",
    "      <span style=\"font-weight: bold; color: gray;\"  >X1 Limit Balance notioned as LIMIT_BAL</span>: میزان کردیت هر کاربر <br>\n",
    "      <span style=\"font-weight: bold; color: gray;\"  >X2 Gender notioned as SEX</span>: جنسیت کاربر (Male=1 Female=2)<br>\n",
    "      <span style=\"font-weight: bold; color: gray;\"  >X3 Education: تحصیلات کاربر به صورت کتگوری مقابل</span> : (1=graduate school, 2=university, 3=high school, 4=others, 5=unknown, 6=unknown) <br>\n",
    "      <span style=\"font-weight: bold; color: gray;\"  >X4 Marriage</span> : وضعیت تاهل کاربر : (1=married, 2=single, 3=others)<br>\n",
    "      <span style=\"font-weight: bold; color: gray;\"  >X5 Age</span> : سن کاربر <br>\n",
    "      <span style=\"font-weight: bold; color: gray;\"  >X6 - X11 (PAY_0-PAY_6)</span> :  وضعیت پرداخت های گدشته و تاخیر یا عدم تاخیر در آنها از آپریل تا سپتامبر ۲۰۰۵ به صورت ترتیب معکوس <br>\n",
    "      <span style=\"font-weight: bold; color: gray;\"  >X12 - X17 (BILL_AMT1-6)</span> : میزان بدهکاری که کاربر باید در هر ماه بپردازد. همانند قبل این ترتیب از آپریل تا سپتامبر سال ۲۰۰۵ و به صورت معکوس است\n",
    "      <br>\n",
    "      <span style=\"font-weight: bold; color: gray;\"  >X18 - X23 (PAY_AMT1-6)</span>: میزان پرداختی که کاربر در هر ماه از آپریل تا سپتامبر ۲۰۰۵ داشته است به صورت معکوس <br>\n",
    "    </font>\n",
    "</div>"
   ]
  },
  {
   "cell_type": "code",
   "execution_count": 2,
   "id": "3b0bb250-453c-46ff-8a00-1d4652b0f824",
   "metadata": {},
   "outputs": [
    {
     "ename": "ModuleNotFoundError",
     "evalue": "No module named 'matplotlib'",
     "output_type": "error",
     "traceback": [
      "\u001b[0;31m---------------------------------------------------------------------------\u001b[0m",
      "\u001b[0;31mModuleNotFoundError\u001b[0m                       Traceback (most recent call last)",
      "Cell \u001b[0;32mIn[2], line 4\u001b[0m\n\u001b[1;32m      2\u001b[0m \u001b[38;5;28;01mimport\u001b[39;00m \u001b[38;5;21;01mnumpy\u001b[39;00m \u001b[38;5;28;01mas\u001b[39;00m \u001b[38;5;21;01mnp\u001b[39;00m\n\u001b[1;32m      3\u001b[0m \u001b[38;5;28;01mimport\u001b[39;00m \u001b[38;5;21;01mpandas\u001b[39;00m \u001b[38;5;28;01mas\u001b[39;00m \u001b[38;5;21;01mpd\u001b[39;00m\n\u001b[0;32m----> 4\u001b[0m \u001b[38;5;28;01mimport\u001b[39;00m \u001b[38;5;21;01mmatplotlib\u001b[39;00m\u001b[38;5;21;01m.\u001b[39;00m\u001b[38;5;21;01mpyplot\u001b[39;00m \u001b[38;5;28;01mas\u001b[39;00m \u001b[38;5;21;01mplot\u001b[39;00m\n\u001b[1;32m      5\u001b[0m get_ipython()\u001b[38;5;241m.\u001b[39mrun_line_magic(\u001b[38;5;124m'\u001b[39m\u001b[38;5;124mmatplotlib\u001b[39m\u001b[38;5;124m'\u001b[39m, \u001b[38;5;124m'\u001b[39m\u001b[38;5;124minline\u001b[39m\u001b[38;5;124m'\u001b[39m)\n",
      "\u001b[0;31mModuleNotFoundError\u001b[0m: No module named 'matplotlib'"
     ]
    }
   ],
   "source": [
    "import os\n",
    "import numpy as np\n",
    "import pandas as pd\n",
    "import matplotlib.pyplot as plot\n",
    "%matplotlib inline"
   ]
  },
  {
   "cell_type": "code",
   "execution_count": null,
   "id": "a7a0b9e5-9dc7-4fec-bd70-8405ec914e2c",
   "metadata": {},
   "outputs": [],
   "source": []
  }
 ],
 "metadata": {
  "kernelspec": {
   "display_name": "Python 3 (ipykernel)",
   "language": "python",
   "name": "python3"
  },
  "language_info": {
   "codemirror_mode": {
    "name": "ipython",
    "version": 3
   },
   "file_extension": ".py",
   "mimetype": "text/x-python",
   "name": "python",
   "nbconvert_exporter": "python",
   "pygments_lexer": "ipython3",
   "version": "3.10.12"
  }
 },
 "nbformat": 4,
 "nbformat_minor": 5
}
